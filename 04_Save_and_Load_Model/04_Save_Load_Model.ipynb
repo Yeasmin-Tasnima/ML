{
 "cells": [
  {
   "cell_type": "markdown",
   "id": "3cf4cc2a",
   "metadata": {},
   "source": [
    "<h1>from sklearn import linear_model</h1>"
   ]
  },
  {
   "cell_type": "code",
   "execution_count": 8,
   "id": "59068d23",
   "metadata": {},
   "outputs": [],
   "source": [
    "import pandas as pd\n",
    "import numpy as np\n",
    "import matplotlib.pyplot as plt\n",
    "%matplotlib inline\n",
    "from sklearn import linear_model"
   ]
  },
  {
   "cell_type": "markdown",
   "id": "70f3a275",
   "metadata": {},
   "source": [
    "<h1>Create DataFrame</h1>"
   ]
  },
  {
   "cell_type": "code",
   "execution_count": 9,
   "id": "bca3d821",
   "metadata": {},
   "outputs": [
    {
     "data": {
      "text/html": [
       "<div>\n",
       "<style scoped>\n",
       "    .dataframe tbody tr th:only-of-type {\n",
       "        vertical-align: middle;\n",
       "    }\n",
       "\n",
       "    .dataframe tbody tr th {\n",
       "        vertical-align: top;\n",
       "    }\n",
       "\n",
       "    .dataframe thead th {\n",
       "        text-align: right;\n",
       "    }\n",
       "</style>\n",
       "<table border=\"1\" class=\"dataframe\">\n",
       "  <thead>\n",
       "    <tr style=\"text-align: right;\">\n",
       "      <th></th>\n",
       "      <th>area</th>\n",
       "      <th>price</th>\n",
       "    </tr>\n",
       "  </thead>\n",
       "  <tbody>\n",
       "    <tr>\n",
       "      <th>0</th>\n",
       "      <td>2600</td>\n",
       "      <td>550000</td>\n",
       "    </tr>\n",
       "    <tr>\n",
       "      <th>1</th>\n",
       "      <td>3000</td>\n",
       "      <td>565000</td>\n",
       "    </tr>\n",
       "    <tr>\n",
       "      <th>2</th>\n",
       "      <td>3200</td>\n",
       "      <td>610000</td>\n",
       "    </tr>\n",
       "    <tr>\n",
       "      <th>3</th>\n",
       "      <td>3600</td>\n",
       "      <td>680000</td>\n",
       "    </tr>\n",
       "    <tr>\n",
       "      <th>4</th>\n",
       "      <td>4000</td>\n",
       "      <td>725000</td>\n",
       "    </tr>\n",
       "  </tbody>\n",
       "</table>\n",
       "</div>"
      ],
      "text/plain": [
       "   area   price\n",
       "0  2600  550000\n",
       "1  3000  565000\n",
       "2  3200  610000\n",
       "3  3600  680000\n",
       "4  4000  725000"
      ]
     },
     "execution_count": 9,
     "metadata": {},
     "output_type": "execute_result"
    }
   ],
   "source": [
    "df = pd.read_csv('homeprices.csv')\n",
    "df"
   ]
  },
  {
   "cell_type": "markdown",
   "id": "4d22a6ae",
   "metadata": {},
   "source": [
    "<h1>Make DataFrame Series into two dimensional numpy array</h1>"
   ]
  },
  {
   "cell_type": "code",
   "execution_count": 10,
   "id": "d86648fe",
   "metadata": {},
   "outputs": [],
   "source": [
    "area = df.iloc[:, :-1].values\n",
    "price = df.iloc[:, 1].values"
   ]
  },
  {
   "cell_type": "markdown",
   "id": "13974441",
   "metadata": {},
   "source": [
    "<h1>Create an object of LinearRegression Class and, Fit the data</h1>"
   ]
  },
  {
   "cell_type": "code",
   "execution_count": 11,
   "id": "5459bc70",
   "metadata": {},
   "outputs": [
    {
     "data": {
      "text/plain": [
       "LinearRegression()"
      ]
     },
     "execution_count": 11,
     "metadata": {},
     "output_type": "execute_result"
    }
   ],
   "source": [
    "reg_model = linear_model.LinearRegression()\n",
    "reg_model.fit(area, price)"
   ]
  },
  {
   "cell_type": "markdown",
   "id": "68b5ed63",
   "metadata": {},
   "source": [
    "<h1>Make a prediction of a random 2D area value"
   ]
  },
  {
   "cell_type": "code",
   "execution_count": 13,
   "id": "52b5b1fa",
   "metadata": {},
   "outputs": [
    {
     "data": {
      "text/plain": [
       "array([628715.75342466])"
      ]
     },
     "execution_count": 13,
     "metadata": {},
     "output_type": "execute_result"
    }
   ],
   "source": [
    "reg_model.predict([[3300]])"
   ]
  },
  {
   "cell_type": "markdown",
   "id": "baaab8d2",
   "metadata": {},
   "source": [
    "<h1>Pickle</h1>"
   ]
  },
  {
   "cell_type": "markdown",
   "id": "db46842a",
   "metadata": {},
   "source": [
    "<h3>Save Model</h3>"
   ]
  },
  {
   "cell_type": "code",
   "execution_count": 14,
   "id": "8d319ff6",
   "metadata": {},
   "outputs": [],
   "source": [
    "import pickle"
   ]
  },
  {
   "cell_type": "code",
   "execution_count": 15,
   "id": "6aa8c86e",
   "metadata": {},
   "outputs": [],
   "source": [
    "with open('model_pickle', 'wb') as f:\n",
    "    pickle.dump(reg_model, f)"
   ]
  },
  {
   "cell_type": "markdown",
   "id": "70b91424",
   "metadata": {},
   "source": [
    "<h3>Load Model</h3>"
   ]
  },
  {
   "cell_type": "code",
   "execution_count": 17,
   "id": "8eb1cc5a",
   "metadata": {},
   "outputs": [],
   "source": [
    "with open('model_pickle', 'rb') as f:\n",
    "    reg_model_pkl = pickle.load(f)"
   ]
  },
  {
   "cell_type": "markdown",
   "id": "e50dda51",
   "metadata": {},
   "source": [
    "<h3>Predict</h3>"
   ]
  },
  {
   "cell_type": "code",
   "execution_count": 22,
   "id": "0f90d2f9",
   "metadata": {},
   "outputs": [
    {
     "data": {
      "text/plain": [
       "array([628715.75342466])"
      ]
     },
     "execution_count": 22,
     "metadata": {},
     "output_type": "execute_result"
    }
   ],
   "source": [
    "reg_model_pkl.predict([[3300]])"
   ]
  },
  {
   "cell_type": "markdown",
   "id": "a23ea1e1",
   "metadata": {},
   "source": [
    "<h1>Joblib</h1>"
   ]
  },
  {
   "cell_type": "code",
   "execution_count": 20,
   "id": "1579b79d",
   "metadata": {},
   "outputs": [],
   "source": [
    "import joblib"
   ]
  },
  {
   "cell_type": "markdown",
   "id": "f1bb9bc2",
   "metadata": {},
   "source": [
    "<h3>Save Model</h3>"
   ]
  },
  {
   "cell_type": "code",
   "execution_count": 23,
   "id": "2bd3921f",
   "metadata": {},
   "outputs": [
    {
     "data": {
      "text/plain": [
       "['model_joblib']"
      ]
     },
     "execution_count": 23,
     "metadata": {},
     "output_type": "execute_result"
    }
   ],
   "source": [
    "joblib.dump(reg_model, 'model_joblib')"
   ]
  },
  {
   "cell_type": "markdown",
   "id": "0025c1e1",
   "metadata": {},
   "source": [
    "<h3>Load Model</h3>"
   ]
  },
  {
   "cell_type": "code",
   "execution_count": 24,
   "id": "39c04984",
   "metadata": {},
   "outputs": [],
   "source": [
    "reg_model_joblib = joblib.load('model_joblib')"
   ]
  },
  {
   "cell_type": "markdown",
   "id": "c0d67bfa",
   "metadata": {},
   "source": [
    "<h3>Predict</h3>"
   ]
  },
  {
   "cell_type": "code",
   "execution_count": 25,
   "id": "e6b7c4da",
   "metadata": {},
   "outputs": [
    {
     "data": {
      "text/plain": [
       "array([628715.75342466])"
      ]
     },
     "execution_count": 25,
     "metadata": {},
     "output_type": "execute_result"
    }
   ],
   "source": [
    "reg_model_joblib.predict([[3300]])"
   ]
  },
  {
   "cell_type": "code",
   "execution_count": null,
   "id": "c64ed151",
   "metadata": {},
   "outputs": [],
   "source": []
  }
 ],
 "metadata": {
  "kernelspec": {
   "display_name": "Python 3 (ipykernel)",
   "language": "python",
   "name": "python3"
  },
  "language_info": {
   "codemirror_mode": {
    "name": "ipython",
    "version": 3
   },
   "file_extension": ".py",
   "mimetype": "text/x-python",
   "name": "python",
   "nbconvert_exporter": "python",
   "pygments_lexer": "ipython3",
   "version": "3.8.10"
  }
 },
 "nbformat": 4,
 "nbformat_minor": 5
}
