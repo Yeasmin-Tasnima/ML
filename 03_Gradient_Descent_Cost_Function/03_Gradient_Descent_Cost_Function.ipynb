{
 "cells": [
  {
   "cell_type": "code",
   "execution_count": 1,
   "id": "69c587b7",
   "metadata": {},
   "outputs": [],
   "source": [
    "import numpy as np\n",
    "import matplotlib.pyplot as plt\n",
    "%matplotlib inline"
   ]
  },
  {
   "cell_type": "markdown",
   "id": "2c4e389c",
   "metadata": {},
   "source": [
    "<h1>Gradient Descent Function</h1>\n",
    "<p>\n",
    "<ui>\n",
    "    <li>equation: y = m * x + b</li>\n",
    "    <li>Cost Function: Mean Squared Error (MSE): 1/n * sum(power((y - y_prediction), 2))</li>\n",
    "    <li>dm = d(cost function)</li>\n",
    "    <li>db = d(cost function)</li>\n",
    "    <li>m = m - learning_rate * dm</li>\n",
    "    <li>b = b - learning_rate * db</li>\n",
    "</ui>\n",
    "</p>"
   ]
  },
  {
   "cell_type": "code",
   "execution_count": 2,
   "id": "517c0867",
   "metadata": {},
   "outputs": [],
   "source": [
    "def gradient_descent(x, y, iteration, learning_rate, m_curr, b_curr):\n",
    "    mse_cost = []\n",
    "    n = len(x)\n",
    "    \n",
    "    for i in range(iteration):\n",
    "        y_pred = m_curr * x + b_curr\n",
    "        \n",
    "        cost_curr = sum(np.power((y - y_pred), 2)) / n\n",
    "        \n",
    "        if (len(mse_cost) != 0):\n",
    "            if ((mse_cost[-1] - cost_curr) < 0.0001):\n",
    "                break\n",
    "        mse_cost.append(cost_curr)\n",
    "        \n",
    "        m_der = (2 / n) * sum(-x * (y - y_pred))\n",
    "        b_der = (2 / n) * sum(y - y_pred)\n",
    "        \n",
    "        m_curr = m_curr - learning_rate * m_der\n",
    "        b_curr = b_curr - learning_rate * b_der\n",
    "        \n",
    "        print('iteration: {}/{}, m: {}, b_curr: {}, cost: {}'.format(i+1, iteration, m_curr, b_curr, cost_curr))\n",
    "        \n",
    "    return mse_cost, m_curr, b_curr"
   ]
  },
  {
   "cell_type": "markdown",
   "id": "08036565",
   "metadata": {},
   "source": [
    "<h1>main()</h1>"
   ]
  },
  {
   "cell_type": "code",
   "execution_count": 3,
   "id": "75ee4912",
   "metadata": {},
   "outputs": [
    {
     "name": "stdout",
     "output_type": "stream",
     "text": [
      "iteration: 1/30, m: 0.62, b_curr: -0.18, cost: 89.0\n",
      "iteration: 2/30, m: 1.1144, b_curr: -0.3264, cost: 57.391200000000005\n",
      "iteration: 3/30, m: 1.5088160000000002, b_curr: -0.446064, cost: 37.36725696\n",
      "iteration: 4/30, m: 1.8236403200000002, b_curr: -0.54445632, cost: 24.685145031168\n",
      "iteration: 5/30, m: 2.0751068288, b_curr: -0.6259270272, cost: 16.65589580262973\n",
      "iteration: 6/30, m: 2.276138948096, b_curr: -0.693939158016, cost: 11.575406916796528\n",
      "iteration: 7/30, m: 2.4370247289958398, b_curr: -0.7512496042905601, cost: 8.363723567784202\n",
      "iteration: 8/30, m: 2.5659542648741884, b_curr: -0.8000531126366209, cost: 6.336437294717845\n",
      "iteration: 9/30, m: 2.669447513360064, b_curr: -0.8420969189969021, cost: 5.059812593010602\n",
      "iteration: 10/30, m: 2.752694875560664, b_curr: -0.8787720065752362, cost: 4.258975068484153\n",
      "iteration: 11/30, m: 2.819828323331832, b_curr: -0.9111857541731011, cost: 3.7597267347357954\n",
      "iteration: 12/30, m: 2.874137237449215, b_curr: -0.9402197698566532, cost: 3.451672126256038\n",
      "iteration: 13/30, m: 2.918240231401787, b_curr: -0.9665759310068334, cost: 3.2648498962263552\n",
      "iteration: 14/30, m: 2.954221936353804, b_curr: -0.9908130357428628, cost: 3.1549233600927677\n",
      "iteration: 15/30, m: 2.9837418925005386, b_curr: -1.013375980276492, cost: 3.0937951727066566\n",
      "iteration: 16/30, m: 3.0081212349670094, b_curr: -1.0346189863319895, cost: 3.063659487805844\n",
      "iteration: 17/30, m: 3.0284117024541866, b_curr: -1.0548240919606087, cost: 3.053232582441968\n"
     ]
    }
   ],
   "source": [
    "x = np.array([1, 2, 3, 4, 5])\n",
    "y = np.array([5, 7, 9, 11, 13])\n",
    "iteration = 30\n",
    "learning_rate = 0.01\n",
    "m_curr = 0\n",
    "b_curr = 0\n",
    "\n",
    "mse_cost, m_curr, b_curr = gradient_descent(x, y, iteration, learning_rate, m_curr, b_curr)"
   ]
  },
  {
   "cell_type": "markdown",
   "id": "04996cc1",
   "metadata": {},
   "source": [
    "<h1>m, b</h1>"
   ]
  },
  {
   "cell_type": "code",
   "execution_count": 4,
   "id": "40083378",
   "metadata": {},
   "outputs": [
    {
     "name": "stdout",
     "output_type": "stream",
     "text": [
      "m: 3.0284117024541866, b: -1.0548240919606087\n"
     ]
    }
   ],
   "source": [
    "print('m: {}, b: {}'.format(m_curr, b_curr))"
   ]
  },
  {
   "cell_type": "markdown",
   "id": "2be6c687",
   "metadata": {},
   "source": [
    "<h1>Plotting the cost-iteration graph</h1>"
   ]
  },
  {
   "cell_type": "code",
   "execution_count": 5,
   "id": "fac28c7a",
   "metadata": {},
   "outputs": [
    {
     "data": {
      "text/plain": [
       "[<matplotlib.lines.Line2D at 0x1fea4ccf790>]"
      ]
     },
     "execution_count": 5,
     "metadata": {},
     "output_type": "execute_result"
    },
    {
     "data": {
      "image/png": "[encoded data removed]",
      "text/plain": [
       "<Figure size 432x288 with 1 Axes>"
      ]
     },
     "metadata": {
      "needs_background": "light"
     },
     "output_type": "display_data"
    }
   ],
   "source": [
    "plt.xlabel('cost')\n",
    "plt.ylabel('iteration')\n",
    "plt.title('cost/iteration')\n",
    "\n",
    "plt.plot(mse_cost, np.arange(len(mse_cost)))"
   ]
  },
  {
   "cell_type": "code",
   "execution_count": null,
   "id": "528c5816",
   "metadata": {},
   "outputs": [],
   "source": []
  }
 ],
 "metadata": {
  "kernelspec": {
   "display_name": "Python 3 (ipykernel)",
   "language": "python",
   "name": "python3"
  },
  "language_info": {
   "codemirror_mode": {
    "name": "ipython",
    "version": 3
   },
   "file_extension": ".py",
   "mimetype": "text/x-python",
   "name": "python",
   "nbconvert_exporter": "python",
   "pygments_lexer": "ipython3",
   "version": "3.8.10"
  }
 },
 "nbformat": 4,
 "nbformat_minor": 5
}
