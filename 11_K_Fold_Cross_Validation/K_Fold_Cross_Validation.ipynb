{
 "cells": [
  {
   "cell_type": "code",
   "execution_count": 1,
   "id": "c45f4e7d",
   "metadata": {},
   "outputs": [],
   "source": [
    "from sklearn.linear_model import LogisticRegression\n",
    "from sklearn.svm import SVC\n",
    "from sklearn.ensemble import RandomForestClassifier\n",
    "\n",
    "import numpy as np"
   ]
  },
  {
   "cell_type": "markdown",
   "id": "f3e23747",
   "metadata": {},
   "source": [
    "<h1>Load Digit Dataset</h1>"
   ]
  },
  {
   "cell_type": "code",
   "execution_count": 2,
   "id": "a61656b5",
   "metadata": {},
   "outputs": [],
   "source": [
    "from sklearn.datasets import load_digits\n",
    "digits = load_digits()"
   ]
  },
  {
   "cell_type": "markdown",
   "id": "ec543617",
   "metadata": {},
   "source": [
    "<h1>Train Test Split</h1>"
   ]
  },
  {
   "cell_type": "code",
   "execution_count": 3,
   "id": "55868f3c",
   "metadata": {},
   "outputs": [],
   "source": [
    "from sklearn.model_selection import train_test_split\n",
    "\n",
    "x_train, x_test, y_train, y_test = train_test_split(digits.data, digits.target, test_size=0.2)"
   ]
  },
  {
   "cell_type": "markdown",
   "id": "a67d5946",
   "metadata": {},
   "source": [
    "<h1>Logistic Regression</h1>"
   ]
  },
  {
   "cell_type": "code",
   "execution_count": 4,
   "id": "aff62aee",
   "metadata": {},
   "outputs": [
    {
     "data": {
      "text/plain": [
       "0.9611111111111111"
      ]
     },
     "execution_count": 4,
     "metadata": {},
     "output_type": "execute_result"
    }
   ],
   "source": [
    "lr = LogisticRegression(max_iter=10000)\n",
    "lr.fit(x_train, y_train)\n",
    "lr.score(x_test, y_test)"
   ]
  },
  {
   "cell_type": "markdown",
   "id": "c952d725",
   "metadata": {},
   "source": [
    "<h1>SVM</h1>"
   ]
  },
  {
   "cell_type": "code",
   "execution_count": 5,
   "id": "a456ed84",
   "metadata": {},
   "outputs": [
    {
     "data": {
      "text/plain": [
       "0.9861111111111112"
      ]
     },
     "execution_count": 5,
     "metadata": {},
     "output_type": "execute_result"
    }
   ],
   "source": [
    "svm = SVC()\n",
    "svm.fit(x_train, y_train)\n",
    "svm.score(x_test, y_test)"
   ]
  },
  {
   "cell_type": "markdown",
   "id": "1c78bc35",
   "metadata": {},
   "source": [
    "<h1>Random Forest Classifier</h1>"
   ]
  },
  {
   "cell_type": "code",
   "execution_count": 6,
   "id": "7a1f2257",
   "metadata": {},
   "outputs": [
    {
     "data": {
      "text/plain": [
       "0.9833333333333333"
      ]
     },
     "execution_count": 6,
     "metadata": {},
     "output_type": "execute_result"
    }
   ],
   "source": [
    "rfc = RandomForestClassifier()\n",
    "rfc.fit(x_train, y_train)\n",
    "rfc.score(x_test, y_test)"
   ]
  },
  {
   "cell_type": "markdown",
   "id": "9a1bb036",
   "metadata": {},
   "source": [
    "<h1>Model Score Function</h1>"
   ]
  },
  {
   "cell_type": "code",
   "execution_count": 7,
   "id": "9e15925e",
   "metadata": {},
   "outputs": [],
   "source": [
    "def get_score(model, x_train, x_test, y_train, y_test):\n",
    "    model.fit(x_train, y_train)\n",
    "    return model.score(x_test, y_test)"
   ]
  },
  {
   "cell_type": "markdown",
   "id": "ed9a3bab",
   "metadata": {},
   "source": [
    "<h1>Model Objects</h1>"
   ]
  },
  {
   "cell_type": "code",
   "execution_count": 8,
   "id": "a33d0416",
   "metadata": {},
   "outputs": [],
   "source": [
    "lr = LogisticRegression(max_iter=10000)\n",
    "svm = SVC()\n",
    "rfc = RandomForestClassifier()"
   ]
  },
  {
   "cell_type": "markdown",
   "id": "b91b170a",
   "metadata": {},
   "source": [
    "<h1>Store scores in lists</h1>"
   ]
  },
  {
   "cell_type": "code",
   "execution_count": 9,
   "id": "03543748",
   "metadata": {},
   "outputs": [],
   "source": [
    "score_lr = []\n",
    "score_svm = []\n",
    "score_rfc = []"
   ]
  },
  {
   "cell_type": "markdown",
   "id": "f4c975c0",
   "metadata": {},
   "source": [
    "<h1>Stratified K Fold</h1>"
   ]
  },
  {
   "cell_type": "code",
   "execution_count": 10,
   "id": "23ccf76c",
   "metadata": {},
   "outputs": [],
   "source": [
    "from sklearn.model_selection import StratifiedKFold\n",
    "\n",
    "skfold = StratifiedKFold(n_splits=10)\n",
    "\n",
    "for train_index, test_index in skfold.split(digits.data, digits.target):\n",
    "    x_train, x_test, y_train, y_test = digits.data[train_index], digits.data[test_index], \\\n",
    "                                       digits.target[train_index], digits.target[test_index]\n",
    "    \n",
    "    score_lr.append(get_score(lr, x_train, x_test, y_train, y_test))\n",
    "    score_svm.append(get_score(svm, x_train, x_test, y_train, y_test))\n",
    "    score_rfc.append(get_score(rfc, x_train, x_test, y_train, y_test))"
   ]
  },
  {
   "cell_type": "code",
   "execution_count": 11,
   "id": "343e346e",
   "metadata": {},
   "outputs": [
    {
     "data": {
      "text/plain": [
       "[0.9055555555555556,\n",
       " 0.9555555555555556,\n",
       " 0.8833333333333333,\n",
       " 0.9333333333333333,\n",
       " 0.9388888888888889,\n",
       " 0.95,\n",
       " 0.95,\n",
       " 0.9329608938547486,\n",
       " 0.88268156424581,\n",
       " 0.9441340782122905]"
      ]
     },
     "execution_count": 11,
     "metadata": {},
     "output_type": "execute_result"
    }
   ],
   "source": [
    "score_lr"
   ]
  },
  {
   "cell_type": "code",
   "execution_count": 12,
   "id": "6d31af02",
   "metadata": {},
   "outputs": [
    {
     "data": {
      "text/plain": [
       "[0.9444444444444444,\n",
       " 0.9888888888888889,\n",
       " 0.9277777777777778,\n",
       " 0.9666666666666667,\n",
       " 0.9833333333333333,\n",
       " 0.9888888888888889,\n",
       " 0.9888888888888889,\n",
       " 0.994413407821229,\n",
       " 0.9608938547486033,\n",
       " 0.9553072625698324]"
      ]
     },
     "execution_count": 12,
     "metadata": {},
     "output_type": "execute_result"
    }
   ],
   "source": [
    "score_svm"
   ]
  },
  {
   "cell_type": "code",
   "execution_count": 13,
   "id": "96e5fda2",
   "metadata": {},
   "outputs": [
    {
     "data": {
      "text/plain": [
       "[0.9111111111111111,\n",
       " 0.9722222222222222,\n",
       " 0.9166666666666666,\n",
       " 0.9222222222222223,\n",
       " 0.9666666666666667,\n",
       " 0.9777777777777777,\n",
       " 0.9833333333333333,\n",
       " 0.9608938547486033,\n",
       " 0.9329608938547486,\n",
       " 0.9385474860335196]"
      ]
     },
     "execution_count": 13,
     "metadata": {},
     "output_type": "execute_result"
    }
   ],
   "source": [
    "score_rfc"
   ]
  },
  {
   "cell_type": "markdown",
   "id": "eed412ef",
   "metadata": {},
   "source": [
    "<h1>Cross Validation</h1>"
   ]
  },
  {
   "cell_type": "markdown",
   "id": "167036e7",
   "metadata": {},
   "source": [
    "<h3>Same as Stratified K Fold, can be directly use the Cross Validation</h3>"
   ]
  },
  {
   "cell_type": "code",
   "execution_count": 14,
   "id": "24b431ac",
   "metadata": {},
   "outputs": [],
   "source": [
    "from sklearn.model_selection import cross_val_score\n",
    "\n",
    "score_lr = cross_val_score(lr, digits.data, digits.target, cv=10)"
   ]
  },
  {
   "cell_type": "code",
   "execution_count": 15,
   "id": "16a404a2",
   "metadata": {},
   "outputs": [
    {
     "data": {
      "text/plain": [
       "array([0.90555556, 0.95555556, 0.88333333, 0.93333333, 0.93888889,\n",
       "       0.95      , 0.95      , 0.93296089, 0.88268156, 0.94413408])"
      ]
     },
     "execution_count": 15,
     "metadata": {},
     "output_type": "execute_result"
    }
   ],
   "source": [
    "score_lr"
   ]
  },
  {
   "cell_type": "code",
   "execution_count": null,
   "id": "bdba0fba",
   "metadata": {},
   "outputs": [],
   "source": []
  }
 ],
 "metadata": {
  "kernelspec": {
   "display_name": "Python 3 (ipykernel)",
   "language": "python",
   "name": "python3"
  },
  "language_info": {
   "codemirror_mode": {
    "name": "ipython",
    "version": 3
   },
   "file_extension": ".py",
   "mimetype": "text/x-python",
   "name": "python",
   "nbconvert_exporter": "python",
   "pygments_lexer": "ipython3",
   "version": "3.8.10"
  }
 },
 "nbformat": 4,
 "nbformat_minor": 5
}
